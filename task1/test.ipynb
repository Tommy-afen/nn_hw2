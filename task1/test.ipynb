{
 "cells": [
  {
   "cell_type": "code",
   "execution_count": 8,
   "metadata": {},
   "outputs": [],
   "source": [
    "import torch\n",
    "import torchvision\n",
    "from torchvision import transforms, models\n",
    "import torch.nn as nn\n",
    "from sklearn.model_selection import train_test_split\n",
    "from torch.utils.data import DataLoader, ConcatDataset, random_split, Subset\n",
    "from copy import deepcopy\n",
    "from timm.data.loader import create_loader\n",
    "from matplotlib import pyplot as plt\n",
    "import numpy as np\n",
    "from timm.data.mixup import Mixup\n",
    "import warnings\n",
    "warnings.filterwarnings(\"ignore\")"
   ]
  },
  {
   "cell_type": "code",
   "execution_count": 9,
   "metadata": {},
   "outputs": [],
   "source": [
    "image_transform_origin = transforms.Compose([\n",
    "    transforms.ToTensor(),\n",
    "    transforms.Normalize(mean=[0.485, 0.456, 0.406],std=[0.229, 0.224, 0.225]),\n",
    "])\n",
    "test_data = torchvision.datasets.CIFAR100(root='data', transform=image_transform_origin, train=False, download=False)\n",
    "test_size = len(test_data)"
   ]
  },
  {
   "cell_type": "code",
   "execution_count": 10,
   "metadata": {},
   "outputs": [],
   "source": [
    "test_loader = DataLoader(dataset=test_data, batch_size=128, num_workers=10)\n",
    "device = 'cuda:0'\n",
    "loss_function = nn.CrossEntropyLoss().to(device)\n",
    "model_no_aug = torch.load('models_save/model.pt').to(device)\n",
    "model_cutout = torch.load('models_save/model_cutout.pt').to(device)\n",
    "model_mixup = torch.load('models_save/model_mixup.pt').to(device)\n",
    "model_cutmix = torch.load('models_save/model_cutmix.pt').to(device)\n"
   ]
  },
  {
   "cell_type": "code",
   "execution_count": 11,
   "metadata": {},
   "outputs": [
    {
     "name": "stdout",
     "output_type": "stream",
     "text": [
      "No augument\n",
      "test loss:4.51    test accuracy:0.37   \n"
     ]
    }
   ],
   "source": [
    "test_loss = .0\n",
    "test_acc = .0\n",
    "for idx, (inputs, targets) in enumerate(test_loader):\n",
    "            inputs, targets = inputs.to(device), targets.to(device)\n",
    "            model_no_aug.eval()\n",
    "            \n",
    "            outputs = model_no_aug(inputs)\n",
    "            loss = loss_function(outputs, targets)\n",
    "            _, predicts = torch.max(outputs.data, 1)\n",
    "            correct_counts = targets.eq(predicts.data.view_as(targets))\n",
    "            acc = torch.mean(correct_counts.type(torch.FloatTensor))\n",
    "            \n",
    "            test_loss += loss.item() * inputs.size(0)\n",
    "            test_acc += acc.item() * inputs.size(0)\n",
    "test_loss /= test_size\n",
    "test_acc /= test_size\n",
    "print('No augument')\n",
    "print('test loss:%-7.2f test accuracy:%-7.2f' % (test_loss, test_acc))"
   ]
  },
  {
   "cell_type": "code",
   "execution_count": 12,
   "metadata": {},
   "outputs": [
    {
     "name": "stdout",
     "output_type": "stream",
     "text": [
      "Cutout\n",
      "test loss:3.92    test accuracy:0.40   \n"
     ]
    }
   ],
   "source": [
    "test_loss = .0\n",
    "test_acc = .0\n",
    "for idx, (inputs, targets) in enumerate(test_loader):\n",
    "            inputs, targets = inputs.to(device), targets.to(device)\n",
    "            model_cutout.eval()\n",
    "            \n",
    "            outputs = model_cutout(inputs)\n",
    "            loss = loss_function(outputs, targets)\n",
    "            _, predicts = torch.max(outputs.data, 1)\n",
    "            correct_counts = targets.eq(predicts.data.view_as(targets))\n",
    "            acc = torch.mean(correct_counts.type(torch.FloatTensor))\n",
    "            \n",
    "            test_loss += loss.item() * inputs.size(0)\n",
    "            test_acc += acc.item() * inputs.size(0)\n",
    "test_loss /= test_size\n",
    "test_acc /= test_size\n",
    "print('Cutout')\n",
    "print('test loss:%-7.2f test accuracy:%-7.2f' % (test_loss, test_acc))"
   ]
  },
  {
   "cell_type": "code",
   "execution_count": 13,
   "metadata": {},
   "outputs": [
    {
     "name": "stdout",
     "output_type": "stream",
     "text": [
      "Mixup\n",
      "test loss:3.38    test accuracy:0.35   \n"
     ]
    }
   ],
   "source": [
    "test_loss = .0\n",
    "test_acc = .0\n",
    "for idx, (inputs, targets) in enumerate(test_loader):\n",
    "            inputs, targets = inputs.to(device), targets.to(device)\n",
    "            model_mixup.eval()\n",
    "            \n",
    "            outputs = model_mixup(inputs)\n",
    "            loss = loss_function(outputs, targets)\n",
    "            _, predicts = torch.max(outputs.data, 1)\n",
    "            correct_counts = targets.eq(predicts.data.view_as(targets))\n",
    "            acc = torch.mean(correct_counts.type(torch.FloatTensor))\n",
    "            \n",
    "            test_loss += loss.item() * inputs.size(0)\n",
    "            test_acc += acc.item() * inputs.size(0)\n",
    "test_loss /= test_size\n",
    "test_acc /= test_size\n",
    "print('Mixup')\n",
    "print('test loss:%-7.2f test accuracy:%-7.2f' % (test_loss, test_acc))"
   ]
  },
  {
   "cell_type": "code",
   "execution_count": 14,
   "metadata": {},
   "outputs": [
    {
     "name": "stdout",
     "output_type": "stream",
     "text": [
      "Cutmix\n",
      "test loss:2.87    test accuracy:0.37   \n"
     ]
    }
   ],
   "source": [
    "test_loss = .0\n",
    "test_acc = .0\n",
    "for idx, (inputs, targets) in enumerate(test_loader):\n",
    "            inputs, targets = inputs.to(device), targets.to(device)\n",
    "            model_cutmix.eval()\n",
    "            \n",
    "            outputs = model_cutmix(inputs)\n",
    "            loss = loss_function(outputs, targets)\n",
    "            _, predicts = torch.max(outputs.data, 1)\n",
    "            correct_counts = targets.eq(predicts.data.view_as(targets))\n",
    "            acc = torch.mean(correct_counts.type(torch.FloatTensor))\n",
    "            \n",
    "            test_loss += loss.item() * inputs.size(0)\n",
    "            test_acc += acc.item() * inputs.size(0)\n",
    "test_loss /= test_size\n",
    "test_acc /= test_size\n",
    "print('Cutmix')\n",
    "print('test loss:%-7.2f test accuracy:%-7.2f' % (test_loss, test_acc))"
   ]
  }
 ],
 "metadata": {
  "kernelspec": {
   "display_name": "cc_pyg_1",
   "language": "python",
   "name": "python3"
  },
  "language_info": {
   "codemirror_mode": {
    "name": "ipython",
    "version": 3
   },
   "file_extension": ".py",
   "mimetype": "text/x-python",
   "name": "python",
   "nbconvert_exporter": "python",
   "pygments_lexer": "ipython3",
   "version": "3.9.15"
  },
  "orig_nbformat": 4
 },
 "nbformat": 4,
 "nbformat_minor": 2
}
